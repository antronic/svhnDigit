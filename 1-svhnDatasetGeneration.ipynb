{
 "cells": [
  {
   "cell_type": "code",
   "execution_count": 1,
   "metadata": {
    "collapsed": true
   },
   "outputs": [],
   "source": [
    "# Download SVHN dataset (Format 2: Cropped Digits)from http://ufldl.stanford.edu/housenumbers/\n",
    "# SVHN dataset is in matlab format, so we will use scipy to manipulate them into hdf5"
   ]
  },
  {
   "cell_type": "code",
   "execution_count": 2,
   "metadata": {
    "collapsed": true
   },
   "outputs": [],
   "source": [
    "import scipy.io\n",
    "import random\n",
    "import numpy as np\n",
    "import matplotlib.pyplot as plt\n",
    "import h5py\n",
    "import os\n",
    "%matplotlib inline"
   ]
  },
  {
   "cell_type": "code",
   "execution_count": 3,
   "metadata": {
    "collapsed": true
   },
   "outputs": [],
   "source": [
    "# Put dataset path here\n",
    "svhnDatasetPath = '/home/thananop/cvt/svhn/'"
   ]
  },
  {
   "cell_type": "code",
   "execution_count": 4,
   "metadata": {},
   "outputs": [
    {
     "name": "stdout",
     "output_type": "stream",
     "text": [
      "Training Data Dimension :  (32, 32, 3, 73257) (73257, 1)\n",
      "Test Data Dimension :  (32, 32, 3, 26032) (26032, 1)\n",
      "Extra Data Dimension:  (32, 32, 3, 531131) (531131, 1)\n"
     ]
    }
   ],
   "source": [
    "trainingData = scipy.io.loadmat(svhnDatasetPath + 'train_32x32.mat', variable_names='X').get('X')\n",
    "trainingLabels = scipy.io.loadmat(svhnDatasetPath + 'train_32x32.mat', variable_names='y').get('y')\n",
    "testData = scipy.io.loadmat(svhnDatasetPath + 'test_32x32.mat', variable_names='X').get('X')\n",
    "testLabels = scipy.io.loadmat(svhnDatasetPath + 'test_32x32.mat', variable_names='y').get('y')\n",
    "extraData = scipy.io.loadmat(svhnDatasetPath + 'extra_32x32.mat', variable_names='X').get('X')\n",
    "extraLabels = scipy.io.loadmat(svhnDatasetPath + 'extra_32x32.mat', variable_names='y').get('y')\n",
    "\n",
    "print('Training Data Dimension : ',trainingData.shape, trainingLabels.shape)\n",
    "print('Test Data Dimension : ',testData.shape, testLabels.shape)\n",
    "print('Extra Data Dimension: ',extraData.shape, extraLabels.shape)"
   ]
  },
  {
   "cell_type": "code",
   "execution_count": 5,
   "metadata": {
    "collapsed": true
   },
   "outputs": [],
   "source": [
    "# SVHN dataset defines that digit '1' has label 1, '9' has label 9 and '0' has label 10 \n",
    "# For the sake of simplicity, we will change class label of digit '0' to 0\n",
    "trainingLabels[trainingLabels == 10] = 0\n",
    "testLabels[testLabels == 10] = 0\n",
    "extraLabels[extraLabels == 10] = 0"
   ]
  },
  {
   "cell_type": "code",
   "execution_count": 6,
   "metadata": {},
   "outputs": [
    {
     "name": "stdout",
     "output_type": "stream",
     "text": [
      "Training Data Dimension :  (373257, 32, 32, 3) (373257,)\n",
      "Test Data Dimension :  (26032, 32, 32, 3) (26032,)\n"
     ]
    }
   ],
   "source": [
    "# Data shuffling (randomly pull 300,000 images from extra set)\n",
    "nExtraImage = 300000\n",
    "totalLabels = 10\n",
    "trainIdx = []\n",
    "extraIdx = []\n",
    "for currentClass in np.arange(totalLabels):\n",
    "    trainIdx.extend(np.where(trainingLabels[:,0] == (currentClass))[0][:].tolist())\n",
    "    extraIdx.extend(np.where(extraLabels[:,0] == (currentClass))[0][:].tolist())\n",
    "random.seed()\n",
    "random.shuffle(trainIdx)\n",
    "random.shuffle(extraIdx)\n",
    "\n",
    "trainingData_t = np.concatenate((extraData[:,:,:,extraIdx[0:nExtraImage]], trainingData[:,:,:,trainIdx]), axis=3).transpose((3,0,1,2))\n",
    "trainingLabels_t = np.concatenate((extraLabels[extraIdx[0:nExtraImage],:], trainingLabels[trainIdx,:]), axis=0)[:,0]\n",
    "testData_t = testData.transpose(3,0,1,2)\n",
    "testLabels_t = testLabels[:,0]\n",
    "print('Training Data Dimension : ',trainingData_t.shape, trainingLabels_t.shape)\n",
    "print('Test Data Dimension : ',testData_t.shape, testLabels_t.shape)"
   ]
  },
  {
   "cell_type": "code",
   "execution_count": 7,
   "metadata": {
    "collapsed": true
   },
   "outputs": [],
   "source": [
    "# Clean up loaded dataset (gc)\n",
    "del trainingData,trainingLabels,testData,testLabels,extraData,extraLabels"
   ]
  },
  {
   "cell_type": "code",
   "execution_count": 8,
   "metadata": {},
   "outputs": [],
   "source": [
    "def im2gray(image):\n",
    "    '''Normalize images'''\n",
    "    image = image.astype(float)\n",
    "    imageGray = np.dot(image, [[0.2989],[0.5870],[0.1140]])\n",
    "    return imageGray\n",
    "\n",
    "trainingData_t = im2gray(trainingData_t)[:,:,:,0]\n",
    "testData_t = im2gray(testData_t)[:,:,:,0]"
   ]
  },
  {
   "cell_type": "code",
   "execution_count": 9,
   "metadata": {},
   "outputs": [
    {
     "data": {
      "image/png": "[encoded data removed]",
      "text/plain": [
       "<matplotlib.figure.Figure at 0x7ff12ea57908>"
      ]
     },
     "metadata": {},
     "output_type": "display_data"
    },
    {
     "name": "stdout",
     "output_type": "stream",
     "text": [
      "Class Label: 3 4 2\n"
     ]
    }
   ],
   "source": [
    "# Show Sample Data\n",
    "randomIdx = random.sample(range(trainingData_t.shape[0]), 3)\n",
    "randomImage = trainingData_t[randomIdx,:,:].transpose(1,2,0)\n",
    "concatRandomImage = np.concatenate((randomImage[:,:,0],randomImage[:,:,1],randomImage[:,:,2]),axis=1)\n",
    "plt.figure()\n",
    "plt.imshow(concatRandomImage[:,:],cmap='gray')\n",
    "plt.show()\n",
    "print('Class Label:',trainingLabels_t[randomIdx[0]],trainingLabels_t[randomIdx[1]],trainingLabels_t[randomIdx[2]])"
   ]
  },
  {
   "cell_type": "code",
   "execution_count": 10,
   "metadata": {},
   "outputs": [
    {
     "data": {
      "image/png": "[encoded data removed]",
      "text/plain": [
       "<matplotlib.figure.Figure at 0x7ff07aa70240>"
      ]
     },
     "metadata": {},
     "output_type": "display_data"
    }
   ],
   "source": [
    "# Extract training data mean\n",
    "trainingDataMean = trainingData_t.mean(axis=(0),dtype=np.float32)\n",
    "plt.figure()\n",
    "plt.imshow(trainingDataMean,cmap='gray')\n",
    "plt.show()"
   ]
  },
  {
   "cell_type": "code",
   "execution_count": 11,
   "metadata": {},
   "outputs": [
    {
     "name": "stdout",
     "output_type": "stream",
     "text": [
      "Training Data Size :  3057721344  bytes\n"
     ]
    }
   ],
   "source": [
    "# Dataset Mean Normalization \n",
    "trainingData_t -= trainingDataMean\n",
    "testData_t -= trainingDataMean\n",
    "print('Training Data Size : ',trainingData_t.nbytes,' bytes')"
   ]
  },
  {
   "cell_type": "code",
   "execution_count": 12,
   "metadata": {},
   "outputs": [
    {
     "data": {
      "image/png": "[encoded data removed]",
      "text/plain": [
       "<matplotlib.figure.Figure at 0x7ff1245b9f28>"
      ]
     },
     "metadata": {},
     "output_type": "display_data"
    },
    {
     "name": "stdout",
     "output_type": "stream",
     "text": [
      "Class Label: 7 1 7\n"
     ]
    }
   ],
   "source": [
    "# Show Sample Normalized\n",
    "randomIdx = random.sample(range(trainingData_t.shape[0]), 3)\n",
    "randomImage = trainingData_t[randomIdx,:,:].transpose(1,2,0)\n",
    "concatRandomImage = np.concatenate((randomImage[:,:,0],randomImage[:,:,1],randomImage[:,:,2]),axis=1)\n",
    "plt.figure()\n",
    "plt.imshow(concatRandomImage[:,:],cmap='gray')\n",
    "plt.show()\n",
    "print('Class Label:',trainingLabels_t[randomIdx[0]],trainingLabels_t[randomIdx[1]],trainingLabels_t[randomIdx[2]])"
   ]
  },
  {
   "cell_type": "code",
   "execution_count": 13,
   "metadata": {},
   "outputs": [
    {
     "name": "stdout",
     "output_type": "stream",
     "text": [
      "Compressed hdf5 size: 3271378969\n"
     ]
    }
   ],
   "source": [
    "with h5py.File('svhnData.h5', 'w') as hf:\n",
    "    hf.create_dataset(\"trainingData\", data=trainingData_t)\n",
    "    hf.create_dataset(\"trainingLabels\", data=trainingLabels_t)\n",
    "    hf.create_dataset(\"testData\", data=testData_t)\n",
    "    hf.create_dataset(\"testLabels\", data=testLabels_t)\n",
    "\n",
    "print('Compressed hdf5 size:', os.stat('svhnData.h5').st_size)"
   ]
  }
 ],
 "metadata": {
  "kernelspec": {
   "display_name": "Python 3",
   "language": "python",
   "name": "python3"
  },
  "language_info": {
   "codemirror_mode": {
    "name": "ipython",
    "version": 3
   },
   "file_extension": ".py",
   "mimetype": "text/x-python",
   "name": "python",
   "nbconvert_exporter": "python",
   "pygments_lexer": "ipython3",
   "version": "3.6.2"
  }
 },
 "nbformat": 4,
 "nbformat_minor": 2
}
