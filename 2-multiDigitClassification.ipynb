{
 "cells": [
  {
   "cell_type": "code",
   "execution_count": 3,
   "metadata": {
    "collapsed": true
   },
   "outputs": [],
   "source": [
    "import numpy as np\n",
    "import random\n",
    "import matplotlib.pyplot as plt\n",
    "import h5py\n",
    "import os\n",
    "import tensorflow as tf\n",
    "import matplotlib.image as mpimg\n",
    "from PIL import Image\n",
    "    \n",
    "%matplotlib inline"
   ]
  },
  {
   "cell_type": "code",
   "execution_count": 4,
   "metadata": {
    "collapsed": false
   },
   "outputs": [
    {
     "name": "stdout",
     "output_type": "stream",
     "text": [
      "Training Data Dimension :  (373257, 32, 32) (373257,)\n",
      "Test Data Dimension :  (26032, 32, 32) (26032,)\n"
     ]
    }
   ],
   "source": [
    "# Read data from file\n",
    "with h5py.File('./svhnModel/svhnData.h5', 'r') as hf:\n",
    "    trainingData = hf['trainingData'][:]\n",
    "    trainingLabels = hf['trainingLabels'][:]\n",
    "    testData = hf['testData'][:]\n",
    "    testLabels = hf['testLabels'][:]\n",
    "print('Training Data Dimension : ',trainingData.shape, trainingLabels.shape)\n",
    "print('Test Data Dimension : ',testData.shape, testLabels.shape)"
   ]
  },
  {
   "cell_type": "code",
   "execution_count": 5,
   "metadata": {
    "collapsed": false
   },
   "outputs": [
    {
     "data": {
      "image/png": "[encoded data removed]",
      "text/plain": [
       "<matplotlib.figure.Figure at 0x7f282ff14fd0>"
      ]
     },
     "metadata": {},
     "output_type": "display_data"
    },
    {
     "name": "stdout",
     "output_type": "stream",
     "text": [
      "Class Label: 2 0 2\n"
     ]
    }
   ],
   "source": [
    "# Show Normalized Samples\n",
    "randomIdx = random.sample(range(trainingData.shape[0]), 3)\n",
    "randomImage = trainingData[randomIdx,:,:].transpose(1,2,0)\n",
    "concatRandomImage = np.concatenate((randomImage[:,:,0],randomImage[:,:,1],randomImage[:,:,2]),axis=1)\n",
    "plt.figure()\n",
    "plt.imshow(concatRandomImage[:,:],cmap='gray')\n",
    "plt.show()\n",
    "print('Class Label:',trainingLabels[randomIdx[0]],trainingLabels[randomIdx[1]],trainingLabels[randomIdx[2]])"
   ]
  },
  {
   "cell_type": "code",
   "execution_count": 6,
   "metadata": {
    "collapsed": false
   },
   "outputs": [
    {
     "name": "stdout",
     "output_type": "stream",
     "text": [
      "Training Data Dimension :  (373257, 32, 32, 1) (373257,)\n",
      "Test Data Dimension :  (26032, 32, 32, 1) (26032,)\n"
     ]
    }
   ],
   "source": [
    "def to4D(data, labels):\n",
    "  data = data.reshape(\n",
    "    (-1, data.shape[1], data.shape[2], 1)).astype(np.float32)\n",
    "  labels = labels.astype(np.int32)\n",
    "  return data, labels\n",
    "\n",
    "trainingData, trainingLabels = to4D(trainingData, trainingLabels)\n",
    "testData, testLabels = to4D(testData, testLabels)\n",
    "\n",
    "print('Training Data Dimension : ',trainingData.shape, trainingLabels.shape)\n",
    "print('Test Data Dimension : ',testData.shape, testLabels.shape)"
   ]
  },
  {
   "cell_type": "code",
   "execution_count": 7,
   "metadata": {
    "collapsed": false
   },
   "outputs": [],
   "source": [
    "batch_size = 512\n",
    "patch_size = 5\n",
    "depth1 = 16\n",
    "depth2 = 32\n",
    "depth3 = 64\n",
    "num_hidden1 = 64\n",
    "num_hidden2 = 16\n",
    "shape=[batch_size, 32, 32, 1]\n",
    "num_channels = 1\n",
    "num_labels = 10\n",
    "# Construct a 7-layer CNN.\n",
    "# C1: convolutional layer, batch_size x 28 x 28 x 16, convolution size: 5 x 5 x 1 x 16\n",
    "# P2: max pooling layer, batch_size x 14 x 14 x 16\n",
    "# C3: convolutional layer, batch_size x 10 x 10 x 32, convolution size: 5 x 5 x 16 x 32\n",
    "# P4: max pooling  layer, batch_size x 5 x 5 x 32\n",
    "# C5: convolutional layer, batch_size x 1 x 1 x 64, convolution size: 5 x 5 x 32 x 64\n",
    "# Dropout\n",
    "# F6: fully-connected layer, weight size: 64 x 16\n",
    "# Output layer, weight size: 16 x 10\n",
    "graph = tf.Graph()\n",
    "with graph.as_default():\n",
    "\n",
    "  # Input data.\n",
    "  tf_train_dataset = tf.placeholder(tf.float32, shape=shape)\n",
    "  tf_train_labels = tf.placeholder(tf.int64, shape=batch_size)\n",
    "  tf_test_dataset = tf.constant(testData)\n",
    "  \n",
    "  # Variables.\n",
    "  layer1_weights = tf.get_variable(\"W1\", shape=[patch_size, patch_size, num_channels, depth1],\\\n",
    "           initializer=tf.contrib.layers.xavier_initializer_conv2d())\n",
    "  layer1_biases = tf.Variable(tf.constant(1.0, shape=[depth1]), name='B1')\n",
    "  layer2_weights = tf.get_variable(\"W2\", shape=[patch_size, patch_size, depth1, depth2],\\\n",
    "           initializer=tf.contrib.layers.xavier_initializer_conv2d())\n",
    "  layer2_biases = tf.Variable(tf.constant(1.0, shape=[depth2]), name='B2')\n",
    "  layer3_weights = tf.get_variable(\"W3\", shape=[patch_size, patch_size, depth2, num_hidden1],\\\n",
    "           initializer=tf.contrib.layers.xavier_initializer_conv2d())\n",
    "  layer3_biases = tf.Variable(tf.constant(1.0, shape=[num_hidden1]), name='B3')\n",
    "  layer4_weights = tf.get_variable(\"W4\", shape=[num_hidden1, num_hidden2],\\\n",
    "           initializer=tf.contrib.layers.xavier_initializer())\n",
    "  layer4_biases = tf.Variable(tf.constant(1.0, shape=[num_hidden2]), name='B4')\n",
    "  layer5_weights = tf.get_variable(\"W5\", shape=[num_hidden2, num_labels],\\\n",
    "           initializer=tf.contrib.layers.xavier_initializer())\n",
    "  layer5_biases = tf.Variable(tf.constant(1.0, shape=[num_labels]), name='B5')\n",
    "  \n",
    "  # Model.\n",
    "  def model(data, keep_prob, shape):\n",
    "    conv = tf.nn.conv2d(data, layer1_weights, [1,1,1,1], 'VALID', name='C1')\n",
    "    hidden = tf.nn.relu(conv + layer1_biases)\n",
    "    lrn = tf.nn.local_response_normalization(hidden)\n",
    "    sub = tf.nn.max_pool(lrn, [1,2,2,1], [1,2,2,1], 'SAME', name='P2')\n",
    "    conv = tf.nn.conv2d(sub, layer2_weights, [1,1,1,1], padding='VALID', name='C3')\n",
    "    hidden = tf.nn.relu(conv + layer2_biases)\n",
    "    lrn = tf.nn.local_response_normalization(hidden)\n",
    "    sub = tf.nn.max_pool(lrn, [1,2,2,1], [1,2,2,1], 'SAME', name='P4')\n",
    "    conv = tf.nn.conv2d(sub, layer3_weights, [1,1,1,1], padding='VALID', name='C5')\n",
    "    hidden = tf.nn.relu(conv + layer3_biases)\n",
    "    hidden = tf.nn.dropout(hidden, keep_prob)\n",
    "    shape = hidden.get_shape().as_list()\n",
    "    reshape = tf.reshape(hidden, [shape[0], shape[1] * shape[2] * shape[3]])\n",
    "    hidden = tf.nn.relu(tf.matmul(reshape, layer4_weights) + layer4_biases)\n",
    "    return tf.matmul(hidden, layer5_weights) + layer5_biases\n",
    "  \n",
    "  # Training computation.\n",
    "  logits = model(tf_train_dataset, 0.9375, shape)\n",
    "  loss = tf.reduce_mean(\n",
    "    tf.nn.sparse_softmax_cross_entropy_with_logits(logits=logits, labels=tf_train_labels))\n",
    "    \n",
    "  # Optimizer.\n",
    "  global_step = tf.Variable(0)\n",
    "  learning_rate = tf.train.exponential_decay(0.05, global_step, 10000, 0.95)\n",
    "  optimizer = tf.train.AdagradOptimizer(learning_rate).minimize(loss, global_step=global_step)\n",
    "  \n",
    "  # Predictions for the training, validation, and test data.\n",
    "  train_prediction = tf.nn.softmax(model(tf_train_dataset, 1.0, shape))\n",
    "  test_prediction = tf.nn.softmax(model(tf_test_dataset, 1.0, shape))\n",
    "    \n",
    "  saver = tf.train.Saver()"
   ]
  },
  {
   "cell_type": "code",
   "execution_count": 8,
   "metadata": {
    "collapsed": true
   },
   "outputs": [],
   "source": [
    "def accuracy(predictions, labels):\n",
    "  return (100.0 * np.sum(np.argmax(predictions, 1) == labels)\n",
    "          / predictions.shape[0])"
   ]
  },
  {
   "cell_type": "code",
   "execution_count": 9,
   "metadata": {
    "collapsed": false
   },
   "outputs": [],
   "source": [
    "if(tf.train.latest_checkpoint('./svhnModel') == None):\n",
    "    num_steps = 10000\n",
    "    with tf.Session(graph=graph) as session:\n",
    "      tf.global_variables_initializer().run()\n",
    "      print('Initialized')\n",
    "      for step in range(num_steps):\n",
    "        offset = (step * batch_size) % (trainingLabels.shape[0] - batch_size)\n",
    "        batch_data = trainingData[offset:(offset + batch_size), :, :, :]\n",
    "        batch_labels = trainingLabels[offset:(offset + batch_size)]\n",
    "        feed_dict = {tf_train_dataset : batch_data, tf_train_labels : batch_labels}\n",
    "        _, l, predictions = session.run([optimizer, loss, train_prediction], feed_dict=feed_dict)\n",
    "\n",
    "        if (step % 500 == 0): \n",
    "          print('Minibatch loss at step %d: %f' % (step, l))\n",
    "          print('Minibatch accuracy: %.1f%%' % accuracy(predictions, batch_labels))\n",
    "      save_path = saver.save(session, \"CNN_1.ckpt\")\n",
    "      print(\"Model saved in file: %s\" % save_path)"
   ]
  },
  {
   "cell_type": "code",
   "execution_count": 10,
   "metadata": {
    "collapsed": false
   },
   "outputs": [
    {
     "data": {
      "image/png": "[encoded data removed]",
      "text/plain": [
       "<matplotlib.figure.Figure at 0x7f27170892e8>"
      ]
     },
     "metadata": {},
     "output_type": "display_data"
    },
    {
     "name": "stdout",
     "output_type": "stream",
     "text": [
      "Class Label: 5 4 1\n"
     ]
    }
   ],
   "source": [
    "# Prediction\n",
    "# Randomly pick images from test set\n",
    "randomIdx = random.sample(range(testData.shape[0]), 3)\n",
    "randomImage = testData[randomIdx,:,:,:].transpose(1,2,3,0).astype(float)\n",
    "concatRandomImage = np.concatenate((randomImage[:,:,0,0],randomImage[:,:,0,1],randomImage[:,:,0,2]),axis=1)\n",
    "plt.figure()\n",
    "plt.imshow(concatRandomImage,cmap='gray')\n",
    "plt.show()\n",
    "print('Class Label:',testLabels[randomIdx[0]],testLabels[randomIdx[1]],testLabels[randomIdx[2]])"
   ]
  },
  {
   "cell_type": "code",
   "execution_count": 12,
   "metadata": {
    "collapsed": false
   },
   "outputs": [
    {
     "name": "stdout",
     "output_type": "stream",
     "text": [
      "INFO:tensorflow:Restoring parameters from ./svhnModel/CNN_1.ckpt\n"
     ]
    },
    {
     "data": {
      "image/png": "[encoded data removed]",
      "text/plain": [
       "<matplotlib.figure.Figure at 0x7f27b7c274a8>"
      ]
     },
     "metadata": {},
     "output_type": "display_data"
    },
    {
     "name": "stdout",
     "output_type": "stream",
     "text": [
      "Actual Class Label: [5, 4, 1]\n",
      "Predicted Class Label: [5, 4, 1]\n"
     ]
    }
   ],
   "source": [
    "# Load trained weight\n",
    "with tf.Session(graph=graph) as session:\n",
    "    restorer = tf.train.Saver()\n",
    "    checkpoint_path = tf.train.latest_checkpoint('./svhnModel')\n",
    "    restorer.restore(session, checkpoint_path)\n",
    "    batchTestData = testData[randomIdx,:,:,:]\n",
    "    tf_test_dataset = tf.placeholder(tf.float32, batchTestData.shape)\n",
    "    prediction = tf.argmax(tf.nn.softmax(model(tf_test_dataset, 1.0, batchTestData.shape)),axis=1)\n",
    "    feed_dict = {tf_test_dataset : batchTestData}\n",
    "    predictions = session.run(prediction, feed_dict=feed_dict)\n",
    "plt.figure()\n",
    "plt.imshow(concatRandomImage,cmap='gray')\n",
    "plt.show()\n",
    "print('Actual Class Label:',[testLabels[randomIdx[0]],testLabels[randomIdx[1]],testLabels[randomIdx[2]]])\n",
    "print('Predicted Class Label:',predictions.tolist())"
   ]
  },
  {
   "cell_type": "code",
   "execution_count": 13,
   "metadata": {
    "collapsed": true
   },
   "outputs": [],
   "source": [
    "def rgb2gray(rgb):\n",
    "    return np.dot(rgb[...,:3], [0.299, 0.587, 0.114])"
   ]
  },
  {
   "cell_type": "code",
   "execution_count": 14,
   "metadata": {
    "collapsed": false
   },
   "outputs": [
    {
     "name": "stdout",
     "output_type": "stream",
     "text": [
      "(32, 86)\n"
     ]
    },
    {
     "data": {
      "image/png": "[encoded data removed]",
      "text/plain": [
       "<matplotlib.figure.Figure at 0x7f27b953b710>"
      ]
     },
     "metadata": {},
     "output_type": "display_data"
    }
   ],
   "source": [
    "# Apply on multiple digits\n",
    "# Read Image as Grayscale\n",
    "testImage = Image.open('test2.jpg').convert('LA')\n",
    "# Resize to match classifier input size\n",
    "testImage = np.asarray(testImage.resize((int(round(testImage.size[0]*1.5)),32)))[:,:,0]\n",
    "# Pad both size (left-right) by zero\n",
    "testImage = np.lib.pad(testImage, ((0,0),(10,10)), 'constant', constant_values=(0))\n",
    "print(testImage.shape)\n",
    "plt.figure()\n",
    "plt.imshow(testImage,cmap='gray')\n",
    "plt.show()"
   ]
  },
  {
   "cell_type": "code",
   "execution_count": 15,
   "metadata": {
    "collapsed": false
   },
   "outputs": [
    {
     "name": "stdout",
     "output_type": "stream",
     "text": [
      "Total Window Size :  (55, 32, 32)\n",
      "Sample Windows\n"
     ]
    },
    {
     "data": {
      "image/png": "[encoded data removed]",
      "text/plain": [
       "<matplotlib.figure.Figure at 0x7f27b7b1ca58>"
      ]
     },
     "metadata": {},
     "output_type": "display_data"
    }
   ],
   "source": [
    "# Employ overlapped sliding window\n",
    "def slidingWindow(image, stepSize, windowSize):\n",
    "    output = []\n",
    "    for row in range(0, image.shape[0] - windowSize +1, stepSize):\n",
    "        for col in range(0, image.shape[1] - windowSize +1, stepSize):\n",
    "            output.append(image[row:row + windowSize, col:col + windowSize])\n",
    "            \n",
    "    return np.array(output)\n",
    "windows = slidingWindow(testImage,1,32)\n",
    "print('Total Window Size : ',windows.shape)\n",
    "showWindows = windows[0:10,:,:].reshape(32*10,32)\n",
    "print('Sample Windows')\n",
    "plt.figure()\n",
    "plt.imshow(showWindows,cmap='gray')\n",
    "plt.show()"
   ]
  },
  {
   "cell_type": "code",
   "execution_count": 16,
   "metadata": {
    "collapsed": false
   },
   "outputs": [
    {
     "name": "stdout",
     "output_type": "stream",
     "text": [
      "INFO:tensorflow:Restoring parameters from ./svhnModel/CNN_1.ckpt\n",
      "Highest probability and class label for each window\n",
      "[ 0.99966919  0.99983418  0.99938893  0.99842393  0.99707961  0.99115002\n",
      "  0.98047799  0.95117843  0.94676268  0.77645665  0.93601179  0.88707381\n",
      "  0.86485094  0.50124002  0.92533398  0.98380995  0.99951887  0.99991703\n",
      "  0.99994612  0.99995434  0.99992156  0.99947363  0.98214573  0.94534725\n",
      "  0.4792726   0.50710124  0.26195556  0.41214347  0.66139823  0.40241775\n",
      "  0.34359398  0.41455621  0.72554964  0.95835906  0.9895733   0.99259758\n",
      "  0.99850249  0.9973532   0.99158865  0.98031873  0.95016903  0.4708761\n",
      "  0.48632458  0.74030387  0.70437038  0.883394    0.68487763  0.68119478\n",
      "  0.98106658  0.99436355  0.99463475  0.99601585  0.99760985  0.99715281\n",
      "  0.95253813]\n",
      "[2 2 2 2 2 2 2 2 2 2 2 2 2 2 4 4 4 4 4 4 4 4 4 4 1 1 4 9 2 2 9 7 7 7 7 7 7\n",
      " 7 7 7 7 7 4 1 1 1 1 0 0 0 0 0 0 0 0]\n"
     ]
    }
   ],
   "source": [
    "batchWindows = windows.reshape((-1, windows.shape[1], windows.shape[2], 1)).astype(np.float32)\n",
    "\n",
    "# Load trained weight\n",
    "with tf.Session(graph=graph) as session:\n",
    "    restorer = tf.train.Saver()\n",
    "    checkpoint_path = tf.train.latest_checkpoint('./svhnModel')\n",
    "    restorer.restore(session, checkpoint_path)\n",
    "    batchTestData = batchWindows\n",
    "    tf_test_dataset = tf.placeholder(tf.float32, batchTestData.shape)\n",
    "    prediction = tf.nn.softmax(model(tf_test_dataset, 1.0, batchTestData.shape))\n",
    "    feed_dict = {tf_test_dataset : batchTestData}\n",
    "    predictions = session.run(prediction, feed_dict=feed_dict)\n",
    "outputProb = np.max(predictions, axis=1)\n",
    "outputLabel = np.argmax(predictions, axis=1)\n",
    "print('Highest probability and class label for each window')\n",
    "print(outputProb)\n",
    "print(outputLabel)"
   ]
  },
  {
   "cell_type": "code",
   "execution_count": 17,
   "metadata": {
    "collapsed": false
   },
   "outputs": [],
   "source": [
    "# Apply Non Maximum Suppression (NMS)\n",
    "# Taken from http://www.pyimagesearch.com/2015/02/16/faster-non-maximum-suppression-python/\n",
    "def nms(boxes, overlapThresh):\n",
    "    # if there are no boxes, return an empty list\n",
    "    if len(boxes) == 0:\n",
    "        return []\n",
    " \n",
    "    # if the bounding boxes integers, convert them to floats --\n",
    "    # this is important since we'll be doing a bunch of divisions\n",
    "    if boxes.dtype.kind == \"i\":\n",
    "        boxes = boxes.astype(\"float\")\n",
    " \n",
    "    # initialize the list of picked indexes\t\n",
    "    pick = []\n",
    " \n",
    "    # grab the coordinates of the bounding boxes\n",
    "    x1 = boxes[:,0]\n",
    "    y1 = boxes[:,1]\n",
    "    x2 = boxes[:,2]\n",
    "    y2 = boxes[:,3]\n",
    "    prob = boxes[:,4]\n",
    "    # compute the area of the bounding boxes and sort the bounding\n",
    "    # boxes by probablity of the bounding box\n",
    "    area = (x2 - x1 + 1) * (y2 - y1 + 1)\n",
    "    idxs = np.argsort(prob)[::-1]\n",
    "    # keep looping while some indexes still remain in the indexes\n",
    "    # list\n",
    "    while len(idxs) > 0:\n",
    "        # grab the last index in the indexes list and add the\n",
    "        # index value to the list of picked indexes\n",
    "        last = len(idxs) - 1\n",
    "        i = idxs[last]\n",
    "        pick.append(i)\n",
    "\n",
    "        # find the largest (x, y) coordinates for the start of\n",
    "        # the bounding box and the smallest (x, y) coordinates\n",
    "        # for the end of the bounding box\n",
    "        xx1 = np.maximum(x1[i], x1[idxs[:last]])\n",
    "        yy1 = np.maximum(y1[i], y1[idxs[:last]])\n",
    "        xx2 = np.minimum(x2[i], x2[idxs[:last]])\n",
    "        yy2 = np.minimum(y2[i], y2[idxs[:last]])\n",
    "\n",
    "        # compute the width and height of the bounding box\n",
    "        w = np.maximum(0, xx2 - xx1 + 1)\n",
    "        h = np.maximum(0, yy2 - yy1 + 1)\n",
    "\n",
    "        # compute the ratio of overlap\n",
    "        overlap = (w * h) / area[idxs[:last]]\n",
    "\n",
    "        # delete all indexes from the index list that have\n",
    "        idxs = np.delete(idxs, np.concatenate(([last],np.where(overlap > overlapThresh)[0])))\n",
    " \n",
    "    # return only the bounding boxes that were picked using the\n",
    "    # integer data type\n",
    "    return np.array(boxes[pick].astype(\"int\"))"
   ]
  },
  {
   "cell_type": "code",
   "execution_count": 18,
   "metadata": {
    "collapsed": false
   },
   "outputs": [],
   "source": [
    "# Build bounding box and probality list\n",
    "bboxes = []\n",
    "idx = 0\n",
    "for row in range(0, testImage.shape[0] - 32 +1):\n",
    "        for col in range(0, testImage.shape[1] - 32 +1):\n",
    "            if(outputProb[idx] > 0.90):\n",
    "                bboxes.append([col,row,col+31,row+31,outputProb[idx],outputLabel[idx]])\n",
    "            idx+=1\n",
    "selectedBBoxes = nms(np.array(bboxes),0.7)\n",
    "\n",
    "# Sort keep bboxes by x pos\n",
    "sortByXPosIdx = np.argsort(selectedBBoxes[:,0])\n",
    "\n",
    "predictedOutput = selectedBBoxes[sortByXPosIdx][:,5].tolist()"
   ]
  },
  {
   "cell_type": "code",
   "execution_count": 19,
   "metadata": {
    "collapsed": false
   },
   "outputs": [
    {
     "data": {
      "image/png": "[encoded data removed]",
      "text/plain": [
       "<matplotlib.figure.Figure at 0x7f27b758f128>"
      ]
     },
     "metadata": {},
     "output_type": "display_data"
    },
    {
     "name": "stdout",
     "output_type": "stream",
     "text": [
      "Predicted Output :  [2, 4, 7, 0]\n"
     ]
    }
   ],
   "source": [
    "plt.figure()\n",
    "plt.imshow(testImage,cmap='gray')\n",
    "plt.show()\n",
    "print('Predicted Output : ',predictedOutput)"
   ]
  }
 ],
 "metadata": {
  "kernelspec": {
   "display_name": "Python 3",
   "language": "python",
   "name": "python3"
  },
  "language_info": {
   "codemirror_mode": {
    "name": "ipython",
    "version": 3
   },
   "file_extension": ".py",
   "mimetype": "text/x-python",
   "name": "python",
   "nbconvert_exporter": "python",
   "pygments_lexer": "ipython3",
   "version": "3.5.3"
  }
 },
 "nbformat": 4,
 "nbformat_minor": 2
}
